{
 "cells": [
  {
   "cell_type": "code",
   "execution_count": 4,
   "id": "endangered-correction",
   "metadata": {},
   "outputs": [],
   "source": [
    "#----------------------------------------------------\n",
    "#Authors : Kai-Rui Hsu\n",
    "#Task : Logistic Regression Classifier Implementation\n",
    "#----------------------------------------------------\n",
    "\n",
    "import numpy as np\n",
    "\n",
    "class LogisticRegression:\n",
    "    def __init__(self):\n",
    "        self.optimizedWeights = None\n",
    "        self.classifierThreshold = 0.5\n",
    "\n",
    "    def logisticFunc(self, x, w):\n",
    "        # Implement Sigmoid function\n",
    "        t = np.dot(x, w)\n",
    "        sigmoid = 1.0 / (1 + np.exp(-t))\n",
    "        return sigmoid\n",
    "\n",
    "    def train(self, train_x, train_label, epochs, learning_rate):\n",
    "        # Train the classifier\n",
    "        print(\"======================================================\")\n",
    "        print(\"Logistic Regression Model Training:\")\n",
    "\n",
    "        # step1. initialize weight randomly\n",
    "        weights = np.random.rand(train_x.shape[1])\n",
    "\n",
    "        # Find the MLE for weight by using gradient ascent\n",
    "        for iteration in range(epochs):\n",
    "            # step2. making prediction by using sigmoid\n",
    "            z = self.logisticFunc(train_x, weights)\n",
    "            # step3. calculate the cost function\n",
    "            gradient = np.dot(train_x.T, train_label - z)\n",
    "            # step4. gradient ascent\n",
    "            weights += learning_rate * gradient\n",
    "\n",
    "        self.optimizedWeights = weights\n",
    "\n",
    "    def predict(self, test_x):\n",
    "        #  making prediction by using optimized weights and test data\n",
    "        z = self.logisticFunc(test_x, self.optimizedWeights)\n",
    "\n",
    "        predictionList = []\n",
    "        for prediction in z:\n",
    "            if prediction > self.classifierThreshold:\n",
    "                predictionList.append(1)\n",
    "            else:\n",
    "                predictionList.append(0)\n",
    "\n",
    "        return np.array(predictionList)\n"
   ]
  },
  {
   "cell_type": "code",
   "execution_count": null,
   "id": "regional-reach",
   "metadata": {},
   "outputs": [],
   "source": []
  }
 ],
 "metadata": {
  "kernelspec": {
   "display_name": "Python 3",
   "language": "python",
   "name": "python3"
  },
  "language_info": {
   "codemirror_mode": {
    "name": "ipython",
    "version": 3
   },
   "file_extension": ".py",
   "mimetype": "text/x-python",
   "name": "python",
   "nbconvert_exporter": "python",
   "pygments_lexer": "ipython3",
   "version": "3.8.5"
  }
 },
 "nbformat": 4,
 "nbformat_minor": 5
}
