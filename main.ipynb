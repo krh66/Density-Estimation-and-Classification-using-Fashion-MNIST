{
 "cells": [
  {
   "cell_type": "code",
   "execution_count": 53,
   "id": "generic-giant",
   "metadata": {},
   "outputs": [],
   "source": [
    "import numpy as np\n",
    "from scipy import io as sio\n",
    "\n",
    "data = sio.loadmat('fashion_mnist.mat') "
   ]
  },
  {
   "cell_type": "code",
   "execution_count": 92,
   "id": "rising-scanner",
   "metadata": {
    "scrolled": false
   },
   "outputs": [],
   "source": [
    "train = data['trX'] #trX - training set, each row represents a sample\n",
    "trainLabel = data['trY'].reshape(data['trY'].shape[1]) #training labels, 0 and 1 represent class 'tshirt' and class 'trouser' respectively\n",
    "test = data['tsX'] #testing set, each row represents a sample\n",
    "testLabel = data['tsY'].reshape(data['tsY'].shape[1]) #testing labels, 0 and 1 represent class 'tshirt' and class 'trouser' respectively"
   ]
  },
  {
   "cell_type": "code",
   "execution_count": 73,
   "id": "brilliant-confidence",
   "metadata": {},
   "outputs": [
    {
     "data": {
      "image/png": "[encoded data removed]",
      "text/plain": [
       "<Figure size 432x288 with 1 Axes>"
      ]
     },
     "metadata": {
      "needs_background": "light"
     },
     "output_type": "display_data"
    }
   ],
   "source": [
    "import matplotlib.pyplot as plt\n",
    "first_image = train[0]\n",
    "first_image = np.array(first_image, dtype='float')\n",
    "pixels = first_image.reshape((28, 28))\n",
    "plt.imshow(pixels, cmap='gray')\n",
    "plt.show()"
   ]
  },
  {
   "cell_type": "code",
   "execution_count": 56,
   "id": "anonymous-brown",
   "metadata": {},
   "outputs": [],
   "source": [
    "def feature_extract(data):\n",
    "\n",
    "    preprocessed_data = list()\n",
    "\n",
    "    for image in data:\n",
    "        features = list()\n",
    "        features.append(np.mean(image))\n",
    "        features.append(np.std(image))\n",
    "        preprocessed_data.append(features)\n",
    "\n",
    "    preprocessed_data = np.array(preprocessed_data)\n",
    "\n",
    "    return preprocessed_data\n",
    "\n",
    "train_x = feature_extract(train)\n",
    "test_x = feature_extract(test)"
   ]
  },
  {
   "cell_type": "code",
   "execution_count": 57,
   "id": "organized-closing",
   "metadata": {},
   "outputs": [
    {
     "name": "stdout",
     "output_type": "stream",
     "text": [
      "[[0.42315926 0.39541744]\n",
      " [0.14336735 0.19489707]\n",
      " [0.30605742 0.40722842]\n",
      " ...\n",
      " [0.17937175 0.27456092]\n",
      " [0.1890006  0.32555838]\n",
      " [0.21389056 0.36485942]]\n",
      "[[0.22566527 0.22256891]\n",
      " [0.11481593 0.22126065]\n",
      " [0.16459084 0.2637425 ]\n",
      " ...\n",
      " [0.21797219 0.34139013]\n",
      " [0.17503001 0.166916  ]\n",
      " [0.24141657 0.37430818]]\n"
     ]
    }
   ],
   "source": [
    "print(train_x)\n",
    "print(test_x)"
   ]
  },
  {
   "cell_type": "code",
   "execution_count": null,
   "id": "substantial-employment",
   "metadata": {},
   "outputs": [],
   "source": []
  }
 ],
 "metadata": {
  "kernelspec": {
   "display_name": "Python 3",
   "language": "python",
   "name": "python3"
  },
  "language_info": {
   "codemirror_mode": {
    "name": "ipython",
    "version": 3
   },
   "file_extension": ".py",
   "mimetype": "text/x-python",
   "name": "python",
   "nbconvert_exporter": "python",
   "pygments_lexer": "ipython3",
   "version": "3.8.5"
  }
 },
 "nbformat": 4,
 "nbformat_minor": 5
}
