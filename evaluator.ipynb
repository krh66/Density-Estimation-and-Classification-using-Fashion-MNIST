{
 "cells": [
  {
   "cell_type": "code",
   "execution_count": 2,
   "id": "southern-coordinate",
   "metadata": {},
   "outputs": [],
   "source": [
    "#-------------------------------------------\n",
    "#Authors : Kai-Rui Hsu\n",
    "#Task : Define different evaluation metrics\n",
    "#-------------------------------------------\n",
    "\n",
    "import numpy as np\n",
    "\n",
    "def accuracy_performance(predict, test_label):\n",
    "    predict = np.trunc(predict)\n",
    "    predict = predict.astype(int)\n",
    "    test_label = np.trunc(test_label)\n",
    "    test_label = test_label.astype(int)\n",
    "\n",
    "    truePositive = 0\n",
    "    trueNegative = 0\n",
    "    falsePositive = 0\n",
    "    falseNegative = 0\n",
    "    \n",
    "    # compare the predict result with real label\n",
    "    totalAmt = len(test_label)\n",
    "    for i in range(totalAmt):\n",
    "        if test_label[i] != predict[i]:\n",
    "            if predict[i] == 1:\n",
    "                falsePositive += 1\n",
    "            else:\n",
    "                falseNegative += 1\n",
    "        else:\n",
    "            if predict[i] == 1:\n",
    "                truePositive += 1\n",
    "            else:\n",
    "                trueNegative += 1\n",
    "\n",
    "    # Accuracy is the number of correct predictions over the total size\n",
    "    accuracy = (truePositive + trueNegative) / totalAmt\n",
    "    # Precision only measures the rate of false positives\n",
    "    precision = truePositive / (truePositive + falsePositive)\n",
    "    # Recall is the opposite of the precision\n",
    "    recall = truePositive / (truePositive + falseNegative)\n",
    "    # F1 calculates Harmonic mean of precision and recall\n",
    "    F1 = 2 * (precision * recall) / (precision + recall)\n",
    "    F1_2 = 2 * ((1-precision) * (1-recall)) / ((1-precision) + (1-recall))\n",
    "\n",
    "    print(\"------------------------------------------------------\")\n",
    "    print(\"Accuracy Report\")\n",
    "    print(\"------------------------------------------------------\")\n",
    "    title = [\"Accuracy\", \"Precision\", \"Recall\", \"F1\"]\n",
    "    accuracy_result = [[\"0\",   accuracy,     precision,   recall,   F1],\n",
    "                       [\"1\", 1-accuracy, 1 - precision, 1-recall, F1_2]]\n",
    "\n",
    "    row_format = '{0:<10} {1:>10} {2:>10} {3:>10} {4:>10}'\n",
    "    print(row_format.format(\"Class\", *title))\n",
    "    \n",
    "    for row in accuracy_result:\n",
    "        print('{0:<10} {1:>10.2f} {2:>10.2f} {3:>10.2f} {4:>10.2f}'.format(*row))\n",
    "\n",
    "    print()"
   ]
  },
  {
   "cell_type": "code",
   "execution_count": null,
   "id": "composed-manitoba",
   "metadata": {},
   "outputs": [],
   "source": []
  }
 ],
 "metadata": {
  "kernelspec": {
   "display_name": "Python 3",
   "language": "python",
   "name": "python3"
  },
  "language_info": {
   "codemirror_mode": {
    "name": "ipython",
    "version": 3
   },
   "file_extension": ".py",
   "mimetype": "text/x-python",
   "name": "python",
   "nbconvert_exporter": "python",
   "pygments_lexer": "ipython3",
   "version": "3.8.5"
  }
 },
 "nbformat": 4,
 "nbformat_minor": 5
}
